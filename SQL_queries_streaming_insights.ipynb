{
 "cells": [
  {
   "cell_type": "markdown",
   "id": "2e4d0ce0",
   "metadata": {},
   "source": [
    "# Streaming Platforms Analysis"
   ]
  },
  {
   "cell_type": "markdown",
   "id": "db43449f",
   "metadata": {},
   "source": [
    "## SQL Queries"
   ]
  },
  {
   "cell_type": "markdown",
   "id": "5d14c186",
   "metadata": {},
   "source": [
    "### Database Schema"
   ]
  },
  {
   "cell_type": "markdown",
   "id": "ee67eba3",
   "metadata": {},
   "source": [
    "Created database, schema, and 2 tables:"
   ]
  },
  {
   "cell_type": "markdown",
   "id": "47deeca2",
   "metadata": {},
   "source": [
    "    CREATE DATABASE IF NOT EXISTS STREAMING_DATA;\n",
    "\n",
    "    USE DATABASE STREAMING_DATA;\n",
    "    CREATE SCHEMA IF NOT EXISTS CONTENT_ANALYSIS;\n",
    "\n",
    "    USE SCHEMA STREAMING_DATA.CONTENT_ANALYSIS;\n",
    "    CREATE TABLE IF NOT EXISTS titles (\n",
    "      id STRING,\n",
    "      title STRING,\n",
    "      type STRING,\n",
    "      description STRING,\n",
    "      release_year INT,\n",
    "      age_certification STRING,\n",
    "      runtime INT,\n",
    "      genres STRING,\n",
    "      production_countries STRING,\n",
    "      seasons INT,\n",
    "      imdb_id STRING,\n",
    "      imdb_score FLOAT,\n",
    "      imdb_votes INT,\n",
    "      platform STRING\n",
    "    );\n",
    "\n",
    "    CREATE TABLE IF NOT EXISTS credits (\n",
    "      person_id INT,\n",
    "      id STRING,\n",
    "      name STRING,\n",
    "      character_name STRING,\n",
    "      role STRING,\n",
    "      platform STRING\n",
    "    );"
   ]
  },
  {
   "cell_type": "markdown",
   "id": "33007f87",
   "metadata": {},
   "source": [
    "Load data with the following parameters:\n",
    "<br>File format: Delimited Files (CSV or TSV)\n",
    "<br>Header: Skip first line\n",
    "<br>Field optionally enclosed by: Double quotes\n",
    "<br>All other parameters by default"
   ]
  },
  {
   "cell_type": "markdown",
   "id": "8f5ad5cf",
   "metadata": {},
   "source": [
    "### In general (across all platforms)"
   ]
  },
  {
   "cell_type": "markdown",
   "id": "afeed35a",
   "metadata": {},
   "source": [
    "1) **Top rated titles:** the highest-rated movies or shows based on IMDb scores (maybe separately for shows and movies)"
   ]
  },
  {
   "cell_type": "markdown",
   "id": "e000cab0",
   "metadata": {},
   "source": [
    "--- top 10 movies across all platforms with statistically significant number of votes (50 and above):\n",
    "\n",
    "    select id, title, type, release_year, runtime, genres, production_countries, imdb_score, imdb_votes, platform\n",
    "    from titles\n",
    "    where type = 'MOVIE' and imdb_votes >= 50 \n",
    "    order by imdb_score desc\n",
    "    limit 10;\n",
    "\n",
    " --- top 10 tv shows across all platforms with statistically significant number of votes (50 and above):\n",
    " \n",
    "    select id, title, type, release_year, runtime, genres, production_countries, seasons, imdb_score, imdb_votes, platform\n",
    "    from titles\n",
    "    where type = 'SHOW' and imdb_votes >= 50 \n",
    "    order by imdb_score desc\n",
    "    limit 10;"
   ]
  },
  {
   "cell_type": "markdown",
   "id": "7530ebae",
   "metadata": {},
   "source": [
    "2) **Most popular titles:** titles with the highest IMDb number of votes (also separately for shows and movies) - viewer engagement."
   ]
  },
  {
   "cell_type": "markdown",
   "id": "6f929ea4",
   "metadata": {},
   "source": [
    " --- top 10 movies across all platforms with the highest IMDb number of votes:\n",
    " \n",
    "    select id, title, type, release_year, runtime, genres, production_countries, imdb_score, imdb_votes, platform\n",
    "    from titles\n",
    "    where type = 'MOVIE'\n",
    "    order by imdb_votes desc\n",
    "    limit 10;\n",
    "\n",
    "--- top 10 tv shows across all platforms with the highest IMDb number of votes:\n",
    "\n",
    "    select id, title, type, release_year, runtime, genres, production_countries, seasons, imdb_score, imdb_votes, platform\n",
    "    from titles\n",
    "    where type = 'SHOW'\n",
    "    order by imdb_votes desc\n",
    "    limit 10;"
   ]
  },
  {
   "cell_type": "markdown",
   "id": "bee00c12",
   "metadata": {},
   "source": [
    "3) **Popular genres:** the most popular genres based on the number of titles and/or average ratings (might be challenging since many movies have several genres)."
   ]
  },
  {
   "cell_type": "markdown",
   "id": "c34a038b",
   "metadata": {},
   "source": [
    "--- number of movies and tv shows by genres by platforms\n",
    "\n",
    "    select platform, type, trim(genre.value, ' []') as genres, count(distinct titles.id) as content_qty\n",
    "    from titles, lateral split_to_table(titles.genres, ',') as genre\n",
    "    group by 1, 2, 3\n",
    "    order by 1, 4 desc;\n",
    " \n",
    " ---number of movies by genres across all platforms\n",
    " \n",
    "    select trim(genre.value, ' []') as genres, count(distinct titles.id) as movies_qty --  used distinct because there are some movies represented on several platforms\n",
    "    from titles, lateral split_to_table(titles.genres, ',') as genre\n",
    "    where titles.type = 'MOVIE' -- there are 155 movies without genre\n",
    "    group by 1\n",
    "    order by 2 desc; \n",
    "---number of shows by genres across all platforms\n",
    "\n",
    "    select trim(genre.value, ' []') as genres, count(distinct titles.id) as shows_qty -- used distinct because there are some shows represented on several platforms\n",
    "    from titles, lateral split_to_table(titles.genres, ',') as genre\n",
    "    where titles.type = 'SHOW' -- there are 119 shows without genre\n",
    "    group by 1\n",
    "    order by 2 desc;\n",
    "\n",
    "---average rating of movie genres across all platforms\n",
    "\n",
    "    with t as\n",
    "    (select distinct id, title, type, genres, imdb_score -- used distinct because there are some movies represented on several platforms\n",
    "    from titles\n",
    "    where titles.type = 'MOVIE')\n",
    "    select trim(genre.value, ' []') as genres, avg(t.imdb_score) as avg_movies_imdb_score\n",
    "    from t, lateral split_to_table(t.genres, ',') as genre\n",
    "    group by 1\n",
    "    order by 2 desc;\n",
    "\n",
    "---average rating of show genres across all platforms\n",
    "\n",
    "    with t as\n",
    "    (select distinct id, title, type, genres, imdb_score --used distinct because there are some shows represented on several platforms\n",
    "    from titles\n",
    "    where titles.type = 'SHOW')\n",
    "    select trim(genre.value, ' []') as genres, avg(t.imdb_score) as avg_shows_imdb_score\n",
    "    from t, lateral split_to_table(t.genres, ',') as genre\n",
    "    group by 1\n",
    "    order by 2 desc;"
   ]
  },
  {
   "cell_type": "markdown",
   "id": "7887b007",
   "metadata": {},
   "source": [
    "4) **Genres trends over time:** how the popularity of genres has changed over the years."
   ]
  },
  {
   "cell_type": "markdown",
   "id": "df27810e",
   "metadata": {},
   "source": [
    " ---number of movies released by years and genres across all platforms\n",
    " \n",
    "    select release_year, trim(genre.value, ' []') as genres, count(distinct id) as movies_qty\n",
    "    from titles, lateral split_to_table(titles.genres, ',') as genre\n",
    "    where type = 'MOVIE'\n",
    "    group by 1, 2\n",
    "    order by 1 desc, 3 desc;\n",
    "\n",
    "---number of shows released by years and genres across all platforms\n",
    "\n",
    "    select release_year, trim(genre.value, ' []') as genres, count(distinct id) as shows_qty\n",
    "    from titles, lateral split_to_table(titles.genres, ',') as genre\n",
    "    where type = 'SHOW'\n",
    "    group by 1, 2\n",
    "    order by 1 desc, 3 desc;"
   ]
  },
  {
   "cell_type": "markdown",
   "id": "2133fc68",
   "metadata": {},
   "source": [
    "5) **Release year trends:** trends in the release years of shows and movies to see how content production has evolved."
   ]
  },
  {
   "cell_type": "markdown",
   "id": "209ef020",
   "metadata": {},
   "source": [
    " ---number of movies released by years across all platforms\n",
    " \n",
    "    select release_year, count(distinct id) as movies_qty\n",
    "    from titles\n",
    "    where type = 'MOVIE'\n",
    "    group by 1\n",
    "    order by 2 desc;\n",
    "\n",
    "---number of shows released by years across all platforms\n",
    "\n",
    "    select release_year, count(distinct id) as shows_qty\n",
    "    from titles\n",
    "    where type = 'SHOW'\n",
    "    group by 1\n",
    "    order by 2 desc; "
   ]
  },
  {
   "cell_type": "markdown",
   "id": "f2e5bf2b",
   "metadata": {},
   "source": [
    "6) **Target audience:** which age groups are being targeted most by these platforms based on the age certification."
   ]
  },
  {
   "cell_type": "markdown",
   "id": "9c529f2e",
   "metadata": {},
   "source": [
    "---number of movies by age certification across all platforms\n",
    "\n",
    "    select age_certification, count(distinct id) as movies_qty\n",
    "    from titles\n",
    "    where type = 'MOVIE'\n",
    "    group by 1\n",
    "    order by 2 desc; --- 9604 movies are unrated\n",
    "\n",
    "---number of shows by age certification across all platforms\n",
    "\n",
    "    select age_certification, count(distinct id) as shows_qty\n",
    "    from titles\n",
    "    where type = 'SHOW'\n",
    "    group by 1\n",
    "    order by 2 desc; --- 1397 shows are unrated"
   ]
  },
  {
   "cell_type": "markdown",
   "id": "1ca737f3",
   "metadata": {},
   "source": [
    "7) **Production country analysis:** which countries are most prolific in producing content available on these platforms."
   ]
  },
  {
   "cell_type": "markdown",
   "id": "b26b465e",
   "metadata": {},
   "source": [
    "---number of movies by country across all platforms\n",
    "\n",
    "    select trim(country.value, ' []') as production_country, count(distinct titles.id) as movies_qty --I used distinct because there are some movies represented on several platforms\n",
    "    from titles, lateral split_to_table(titles.production_countries, ',') as country\n",
    "    where titles.type = 'MOVIE' -- there are 265 movies without country\n",
    "    group by 1\n",
    "    order by 2 desc;\n",
    "\n",
    "---number of shows by country across all platforms\n",
    "\n",
    "    select trim(country.value, ' []') as production_country, count(distinct titles.id) as shows_qty --I used distinct because there are some shows represented on several platforms\n",
    "    from titles, lateral split_to_table(titles.production_countries, ',') as country\n",
    "    where titles.type = 'SHOW' -- there are 28 shows without country\n",
    "    group by 1\n",
    "    order by 2 desc;"
   ]
  },
  {
   "cell_type": "markdown",
   "id": "02d92126",
   "metadata": {},
   "source": [
    "8) **Most frequent collaborations:** actors who frequently work with the same directors."
   ]
  },
  {
   "cell_type": "markdown",
   "id": "59be8814",
   "metadata": {},
   "source": [
    "---10 most frequent actor-director movies collaborations across all platforms\n",
    "\n",
    "    with actors as\n",
    "    (select id, name as actor_name\n",
    "    from credits\n",
    "    where role = 'ACTOR' and contains(id, 'tm')), --- filter by movies\n",
    "    directors as\n",
    "    (select id, name as director_name\n",
    "    from credits\n",
    "    where role = 'DIRECTOR' and contains(id, 'tm')), --- filter by movies\n",
    "    pairs as\n",
    "    (select a.id, a.actor_name, d.director_name, concat(a.actor_name, ' with ', d.director_name) as actor_director_pair\n",
    "    from actors a\n",
    "    join directors d on a.id=d.id)\n",
    "    select actor_director_pair, count(id) as frequency\n",
    "    from pairs\n",
    "    group by 1\n",
    "    order by 2 desc\n",
    "    limit 10;\n",
    "\n",
    "---10 most frequent actor-director tv shows collaborations across all platforms\n",
    "\n",
    "    with actors as\n",
    "    (select id, name as actor_name\n",
    "    from credits\n",
    "    where role = 'ACTOR' and contains(id, 'ts')), --- filter by tv shows\n",
    "    directors as\n",
    "    (select id, name as director_name\n",
    "    from credits\n",
    "    where role = 'DIRECTOR' and contains(id, 'ts')), --- filter by tv shows\n",
    "    pairs as\n",
    "    (select a.id, a.actor_name, d.director_name, concat(a.actor_name, ' with ', d.director_name) as actor_director_pair\n",
    "    from actors a\n",
    "    join directors d on a.id=d.id)\n",
    "    select actor_director_pair, count(id) as frequency\n",
    "    from pairs\n",
    "    group by 1\n",
    "    order by 2 desc\n",
    "    limit 10;"
   ]
  },
  {
   "cell_type": "markdown",
   "id": "53a67939",
   "metadata": {},
   "source": [
    "9) **Most prolific actors/directors:** which actors or directors are most prolific across these platforms.\n",
    " Actor-director impact: if certain actors or directors consistently contribute to higher-rated titles."
   ]
  },
  {
   "cell_type": "markdown",
   "id": "f92e5520",
   "metadata": {},
   "source": [
    "---actors with highest average ratings of movies they were filmed in across all platforms, and number of movies\n",
    "\n",
    "    select c.person_id as actor_id, c.name, avg(t.imdb_score) as avg_movie_imdb_score, count(distinct t.id) as movies_qty\n",
    "    from credits c\n",
    "    join titles t on t.id = c.id\n",
    "    where c.role = 'ACTOR' and t.type = 'MOVIE' and imdb_votes >= 50\n",
    "    group by 1, 2\n",
    "    order by 3 desc, 4 desc;\n",
    "\n",
    "---directors with highest average ratings of movies they filmed across all platforms, and number of movies\n",
    "\n",
    "    select c.person_id as director_id, c.name, avg(t.imdb_score) as avg_movie_imdb_score, count(distinct t.id) as movies_qty\n",
    "    from credits c\n",
    "    join titles t on t.id = c.id\n",
    "    where c.role = 'DIRECTOR' and t.type = 'MOVIE' and imdb_votes >= 50\n",
    "    group by 1, 2\n",
    "    order by 3 desc, 4 desc;\n",
    "\n",
    "---actors with highest average ratings of shows they were filmed in across all platforms, and number of shows\n",
    "\n",
    "    select c.person_id as actor_id, c.name, avg(t.imdb_score) as avg_show_imdb_score, count(distinct t.id) as show_qty\n",
    "    from credits c\n",
    "    join titles t on t.id = c.id\n",
    "    where c.role = 'ACTOR' and t.type = 'SHOW' and imdb_votes >= 50\n",
    "    group by 1, 2\n",
    "    order by 3 desc, 4 desc;\n",
    "\n",
    "---directors with highest average ratings of shows they filmed across all platforms, and number of shows\n",
    "\n",
    "    select c.person_id as director_id, c.name, avg(t.imdb_score) as avg_show_imdb_score, count(distinct t.id) as show_qty\n",
    "    from credits c\n",
    "    join titles t on t.id = c.id\n",
    "    where c.role = 'DIRECTOR' and t.type = 'SHOW' and imdb_votes >= 50\n",
    "    group by 1, 2\n",
    "    order by 3 desc, 4 desc;"
   ]
  },
  {
   "cell_type": "markdown",
   "id": "0030c224",
   "metadata": {},
   "source": [
    "### Comparison between platforms: (Cross platform comparison)"
   ]
  },
  {
   "cell_type": "markdown",
   "id": "abbdc22f",
   "metadata": {},
   "source": [
    "10) **Average ratings:** the average IMDb scores across platforms."
   ]
  },
  {
   "cell_type": "markdown",
   "id": "ad814d91",
   "metadata": {},
   "source": [
    "---average imdb rating for movies by platforms\n",
    "\n",
    "    select platform, avg(imdb_score) as avg_movie_imdb_score\n",
    "    from titles\n",
    "    where type = 'MOVIE'\n",
    "    group by 1\n",
    "    order by 2 desc;\n",
    " \n",
    "---average imdb rating for shows by platforms\n",
    "\n",
    "    select platform, avg(imdb_score) as avg_shows_imdb_score\n",
    "    from titles\n",
    "    where type = 'SHOW'\n",
    "    group by 1\n",
    "    order by 2 desc;"
   ]
  },
  {
   "cell_type": "markdown",
   "id": "1a532e50",
   "metadata": {},
   "source": [
    "11) **Top-rated titles by platform:** the highest-rated titles on each platform (separately for shows and movies)."
   ]
  },
  {
   "cell_type": "markdown",
   "id": "e5affe55",
   "metadata": {},
   "source": [
    "--- top 10 movies on Amazon with statistically significant number of votes (50 and above):\n",
    "\n",
    "    select id, title, type, release_year, runtime, genres, production_countries, imdb_score, imdb_votes, platform\n",
    "    from titles\n",
    "    where type = 'MOVIE' and imdb_votes >= 50 and platform = 'amazon'\n",
    "    order by imdb_score desc\n",
    "    limit 10;\n",
    "\n",
    "--- top 10 movies on Netflix with statistically significant number of votes (50 and above):\n",
    "\n",
    "    select id, title, type, release_year, runtime, genres, production_countries, imdb_score, imdb_votes, platform\n",
    "    from titles\n",
    "    where type = 'MOVIE' and imdb_votes >= 50 and platform = 'netflix'\n",
    "    order by imdb_score desc\n",
    "    limit 10;\n",
    "\n",
    "--- top 10 movies on Hulu with statistically significant number of votes (50 and above):\n",
    "\n",
    "    select id, title, type, release_year, runtime, genres, production_countries, imdb_score, imdb_votes, platform\n",
    "    from titles\n",
    "    where type = 'MOVIE' and imdb_votes >= 50 and platform = 'hulu'\n",
    "    order by imdb_score desc\n",
    "    limit 10;\n",
    "\n",
    "--- top 10 movies on Disney with statistically significant number of votes (50 and above):\n",
    "\n",
    "    select id, title, type, release_year, runtime, genres, production_countries, imdb_score, imdb_votes, platform\n",
    "    from titles\n",
    "    where type = 'MOVIE' and imdb_votes >= 50 and platform = 'disney'\n",
    "    order by imdb_score desc\n",
    "    limit 10;\n",
    "\n",
    " --- top 10 shows on Amazon with statistically significant number of votes (50 and above):\n",
    "\n",
    "    select id, title, type, release_year, runtime, genres, production_countries, seasons, imdb_score, imdb_votes, platform\n",
    "    from titles\n",
    "    where type = 'SHOW' and imdb_votes >= 50 and platform = 'amazon'\n",
    "    order by imdb_score desc\n",
    "    limit 10;\n",
    "\n",
    "--- top 10 shows on Netflix with statistically significant number of votes (50 and above):\n",
    "\n",
    "    select id, title, type, release_year, runtime, genres, production_countries, seasons, imdb_score, imdb_votes, platform\n",
    "    from titles\n",
    "    where type = 'SHOW' and imdb_votes >= 50 and platform = 'netflix'\n",
    "    order by imdb_score desc\n",
    "    limit 10;\n",
    "\n",
    "--- top 10 shows on Hulu with statistically significant number of votes (50 and above):\n",
    "\n",
    "    select id, title, type, release_year, runtime, genres, production_countries, seasons, imdb_score, imdb_votes, platform\n",
    "    from titles\n",
    "    where type = 'SHOW' and imdb_votes >= 50 and platform = 'hulu'\n",
    "    order by imdb_score desc\n",
    "    limit 10;\n",
    "\n",
    "--- top 10 shows on Disney with statistically significant number of votes (50 and above):\n",
    "\n",
    "    select id, title, type, release_year, runtime, genres, production_countries, seasons, imdb_score, imdb_votes, platform\n",
    "    from titles\n",
    "    where type = 'SHOW' and imdb_votes >= 50 and platform = 'disney'\n",
    "    order by imdb_score desc\n",
    "    limit 10;"
   ]
  },
  {
   "cell_type": "markdown",
   "id": "b8a7639c",
   "metadata": {},
   "source": [
    "12) **Most popular titles by platform:** which titles are most popular on each platform based on the number of IMDb votes."
   ]
  },
  {
   "cell_type": "markdown",
   "id": "5d63abb1",
   "metadata": {},
   "source": [
    " --- top 10 movies on Amazon with the highest IMDb number of votes:\n",
    "\n",
    "    select id, title, type, release_year, runtime, genres, production_countries, imdb_score, imdb_votes, platform\n",
    "    from titles\n",
    "    where type = 'MOVIE' and platform = 'amazon'\n",
    "    order by imdb_votes desc\n",
    "    limit 10;\n",
    "\n",
    "--- top 10 movies on Netflix with the highest IMDb number of votes:\n",
    "\n",
    "    select id, title, type, release_year, runtime, genres, production_countries, imdb_score, imdb_votes, platform\n",
    "    from titles\n",
    "    where type = 'MOVIE' and platform = 'netflix'\n",
    "    order by imdb_votes desc\n",
    "    limit 10;\n",
    "\n",
    "--- top 10 movies on Hulu with the highest IMDb number of votes:\n",
    "\n",
    "    select id, title, type, release_year, runtime, genres, production_countries, imdb_score, imdb_votes, platform\n",
    "    from titles\n",
    "    where type = 'MOVIE' and platform = 'hulu'\n",
    "    order by imdb_votes desc\n",
    "    limit 10;\n",
    "\n",
    "--- top 10 movies on Disney with the highest IMDb number of votes:\n",
    "\n",
    "    select id, title, type, release_year, runtime, genres, production_countries, imdb_score, imdb_votes, platform\n",
    "    from titles\n",
    "    where type = 'MOVIE' and platform = 'disney'\n",
    "    order by imdb_votes desc\n",
    "    limit 10;\n",
    "\n",
    "--- top 10 shows on Amazon with the highest IMDb number of votes:\n",
    "\n",
    "    select id, title, type, release_year, runtime, genres, production_countries, imdb_score, imdb_votes, platform\n",
    "    from titles\n",
    "    where type = 'SHOW' and platform = 'amazon'\n",
    "    order by imdb_votes desc\n",
    "    limit 10;\n",
    "\n",
    "--- top 10 shows on Netflix with the highest IMDb number of votes:\n",
    "\n",
    "    select id, title, type, release_year, runtime, genres, production_countries, imdb_score, imdb_votes, platform\n",
    "    from titles\n",
    "    where type = 'SHOW' and platform = 'netflix'\n",
    "    order by imdb_votes desc\n",
    "    limit 10;\n",
    "\n",
    "--- top 10 shows on Hulu with the highest IMDb number of votes:\n",
    "\n",
    "    select id, title, type, release_year, runtime, genres, production_countries, imdb_score, imdb_votes, platform\n",
    "    from titles\n",
    "    where type = 'SHOW' and platform = 'hulu'\n",
    "    order by imdb_votes desc\n",
    "    limit 10;\n",
    "\n",
    "--- top 10 shows on Disney with the highest IMDb number of votes:\n",
    "\n",
    "    select id, title, type, release_year, runtime, genres, production_countries, imdb_score, imdb_votes, platform\n",
    "    from titles\n",
    "    where type = 'SHOW' and platform = 'disney'\n",
    "    order by imdb_votes desc\n",
    "    limit 10;"
   ]
  },
  {
   "cell_type": "markdown",
   "id": "fbb00f8e",
   "metadata": {},
   "source": [
    "13) **Viewer engagement:** the level of viewer engagement (measured by the total number of IMDb votes) across platforms."
   ]
  },
  {
   "cell_type": "markdown",
   "id": "a2073f55",
   "metadata": {},
   "source": [
    "--- total number of imdb votes for movies by platforms:\n",
    "\n",
    "    select platform, sum(imdb_votes) as total_movies_imdb_votes\n",
    "    from titles\n",
    "    where type = 'MOVIE'\n",
    "    group by 1\n",
    "    order by 2 desc;\n",
    "\n",
    "--- total number of imdb votes for shows by platforms:\n",
    "\n",
    "    select platform, sum(imdb_votes) as total_shows_imdb_votes\n",
    "    from titles\n",
    "    where type = 'SHOW'\n",
    "    group by 1\n",
    "    order by 2 desc;"
   ]
  },
  {
   "cell_type": "markdown",
   "id": "79a3b1ea",
   "metadata": {},
   "source": [
    "14) **Age certification distribution:** the distribution of age certifications across platforms to understand their target demographics. "
   ]
  },
  {
   "cell_type": "markdown",
   "id": "135279c1",
   "metadata": {},
   "source": [
    "  ---number of movies by age certification by each platform\n",
    "\n",
    "    select platform, age_certification, count(id) as movies_qty\n",
    "    from titles\n",
    "    where type = 'MOVIE'\n",
    "    group by 1, 2\n",
    "    order by 1, 3 desc;\n",
    "\n",
    "---number of shows by age certification by each platform\n",
    "\n",
    "    select platform, age_certification, count(id) as shows_qty\n",
    "    from titles\n",
    "    where type = 'SHOW'\n",
    "    group by 1, 2\n",
    "    order by 1, 3 desc;"
   ]
  },
  {
   "cell_type": "markdown",
   "id": "6e399db8",
   "metadata": {},
   "source": [
    "15) **Content production trends:** number of movies/shows released at each platform over years."
   ]
  },
  {
   "cell_type": "markdown",
   "id": "4bac475b",
   "metadata": {},
   "source": [
    "---number of movies released by years by each platform\n",
    "\n",
    "    select platform, release_year, count(id) as movies_qty\n",
    "    from titles\n",
    "    where type = 'MOVIE'\n",
    "    group by 1, 2\n",
    "    order by 1, 3 desc;\n",
    "\n",
    "---number of shows released by years by each platform\n",
    "\n",
    "    select platform, release_year, count(id) as shows_qty\n",
    "    from titles\n",
    "    where type = 'SHOW'\n",
    "    group by 1, 2\n",
    "    order by 1, 3 desc; "
   ]
  },
  {
   "cell_type": "markdown",
   "id": "f3c49b1b",
   "metadata": {},
   "source": [
    "16) **Cross-platform presence of actors/directors:** which actors and directors are most common across multiple platforms."
   ]
  },
  {
   "cell_type": "markdown",
   "id": "45cfa086",
   "metadata": {},
   "source": [
    "--top 10 actors who have appeared in the most movies that are present on all four platforms\n",
    "\n",
    "    with t as\n",
    "    (select person_id, name as actor_name, count(distinct platform) as platform_presence_qty\n",
    "    from credits\n",
    "    where role = 'ACTOR' and contains(id, 'tm') --movies\n",
    "    group by 1, 2)\n",
    "    select c.person_id, c.name as actor_name, count(distinct c.id) as movies_qty\n",
    "    from credits c\n",
    "    join t on t.person_id=c.person_id\n",
    "    where c.role = 'ACTOR' and t.platform_presence_qty = 4 and contains(c.id, 'tm') --movies\n",
    "    group by 1, 2\n",
    "    order by 3 desc\n",
    "    limit 10;\n",
    "\n",
    "-- top 10 actors who have appeared in the most shows that are present on all four platforms\n",
    "\n",
    "    with t as\n",
    "    (select person_id, name as actor_name, count(distinct platform) as platform_presence_qty\n",
    "    from credits\n",
    "    where role = 'ACTOR' and contains(id, 'ts') --shows\n",
    "    group by 1, 2)\n",
    "    select c.person_id, c.name as actor_name, count(distinct c.id) as shows_qty\n",
    "    from credits c\n",
    "    join t on t.person_id=c.person_id\n",
    "    where c.role = 'ACTOR' and t.platform_presence_qty = 4 and contains(c.id, 'ts') --shows\n",
    "    group by 1, 2\n",
    "    order by 3 desc\n",
    "    limit 10;\n",
    "\n",
    "-- top 10 directors of the most movies that are present on all four platforms\n",
    "\n",
    "    with t as\n",
    "    (select person_id, name as director_name, count(distinct platform) as platform_presence_qty\n",
    "    from credits\n",
    "    where role = 'DIRECTOR' and contains(id, 'tm') --movies\n",
    "    group by 1, 2)\n",
    "    select c.person_id, c.name as director_name, count(distinct c.id) as movies_qty\n",
    "    from credits c\n",
    "    join t on t.person_id=c.person_id\n",
    "    where c.role = 'DIRECTOR' and t.platform_presence_qty = 4 and contains(c.id, 'tm') --movies\n",
    "    group by 1, 2\n",
    "    order by 3 desc\n",
    "    limit 10;\n",
    "\n",
    "-- top 10 directors of the most shows that are present on at least 3 platforms\n",
    "\n",
    "    with t as\n",
    "    (select person_id, name as director_name, count(distinct platform) as platform_presence_qty\n",
    "    from credits\n",
    "    where role = 'DIRECTOR' and contains(id, 'ts') --shows\n",
    "    group by 1, 2)\n",
    "    select c.person_id, c.name as director_name, count(distinct c.id) as shows_qty\n",
    "    from credits c\n",
    "    join t on t.person_id=c.person_id\n",
    "    where c.role = 'DIRECTOR' and t.platform_presence_qty >= 3 and contains(c.id, 'ts') --shows (there are only 5 directors whose shows presented on 3 platforms and none on 4 platforms)\n",
    "    group by 1, 2\n",
    "    order by 3 desc\n",
    "    limit 10;"
   ]
  },
  {
   "cell_type": "markdown",
   "id": "a129c0ef",
   "metadata": {},
   "source": [
    "17) **Global reach:** the extent of international content available on each platform; if any platform has a specific focus on content from certain regions or countries."
   ]
  },
  {
   "cell_type": "markdown",
   "id": "18d39f22",
   "metadata": {},
   "source": [
    "---number of movies by country by platform\n",
    "\n",
    "    select platform, trim(country.value, ' []') as production_country, count(titles.id) as movies_qty\n",
    "    from titles, lateral split_to_table(titles.production_countries, ',') as country\n",
    "    where titles.type = 'MOVIE'\n",
    "    group by 1,2\n",
    "    order by 1, 3 desc;\n",
    "\n",
    "---number of shows by country by platform\n",
    "\n",
    "    select platform, trim(country.value, ' []') as production_country, count(titles.id) as shows_qty\n",
    "    from titles, lateral split_to_table(titles.production_countries, ',') as country\n",
    "    where titles.type = 'SHOW'\n",
    "    group by 1,2\n",
    "    order by 1, 3 desc;"
   ]
  },
  {
   "cell_type": "markdown",
   "id": "4ca2cb10",
   "metadata": {},
   "source": [
    "18) **What is the oldest movie / tv show on each platform?**"
   ]
  },
  {
   "cell_type": "markdown",
   "id": "f66f0cf4",
   "metadata": {},
   "source": [
    "-- the oldest movie on each platform\n",
    "\n",
    "    with t as\n",
    "    (select platform, id, title, release_year, age_certification, runtime, genres, production_countries, imdb_score, imdb_votes, rank() over(partition by platform order by release_year) as ranking\n",
    "    from titles\n",
    "    where type = 'MOVIE')\n",
    "    select * exclude ranking\n",
    "    from t\n",
    "    where ranking=1\n",
    "    order by release_year;\n",
    "\n",
    "-- the oldest tv show on each platform\n",
    "\n",
    "    with t as\n",
    "    (select platform, id, title, release_year, age_certification, runtime, genres, production_countries, seasons, imdb_score, imdb_votes, rank() over(partition by platform order by release_year) as ranking\n",
    "    from titles\n",
    "    where type = 'SHOW')\n",
    "    select * exclude ranking\n",
    "    from t\n",
    "    where ranking=1\n",
    "    order by release_year;"
   ]
  },
  {
   "cell_type": "markdown",
   "id": "ad48a80d",
   "metadata": {},
   "source": [
    "19) **What show has the most seasons?**"
   ]
  },
  {
   "cell_type": "markdown",
   "id": "0221a51a",
   "metadata": {},
   "source": [
    "-- tv show with the most seasons on each platform\n",
    "\n",
    "    with t as\n",
    "    (select platform, id, title, release_year, age_certification, runtime, genres, production_countries, seasons, imdb_score, imdb_votes, rank() over(partition by platform order by seasons desc) as ranking\n",
    "    from titles\n",
    "    where type = 'SHOW')\n",
    "    select * exclude ranking\n",
    "    from t\n",
    "    where ranking=1\n",
    "    order by seasons desc;"
   ]
  }
 ],
 "metadata": {
  "kernelspec": {
   "display_name": "Python 3 (ipykernel)",
   "language": "python",
   "name": "python3"
  },
  "language_info": {
   "codemirror_mode": {
    "name": "ipython",
    "version": 3
   },
   "file_extension": ".py",
   "mimetype": "text/x-python",
   "name": "python",
   "nbconvert_exporter": "python",
   "pygments_lexer": "ipython3",
   "version": "3.11.3"
  }
 },
 "nbformat": 4,
 "nbformat_minor": 5
}
